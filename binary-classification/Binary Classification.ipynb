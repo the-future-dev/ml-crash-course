{
 "cells": [
  {
   "cell_type": "markdown",
   "id": "815ef914",
   "metadata": {},
   "source": [
    "# Binary Classification\n",
    "In this file, I'll create and evaluate a binary [classification model](https://developers.google.com/machine-learning/glossary/#classification_model).\n",
    "\n",
    "That is, I'll create a model that answers a binary question. In this exercise, the binary question will be,\n",
    "\n",
    "\"Are houses in this neighborhood above a certain price?\""
   ]
  },
  {
   "cell_type": "markdown",
   "id": "5b8f2296",
   "metadata": {},
   "source": [
    "## Learning Objectives:\n",
    "\n",
    "  * Convert a regression question into a classification question.\n",
    "  * Modify the classification threshold and determine how that modification influences the model.\n",
    "  * Experiment with different classification metrics to determine your model's effectiveness.\n",
    "\n",
    "## The Dataset:\n",
    "\n",
    "I will use the [California Housing Dataset](https://developers.google.com/machine-learning/crash-course/california-housing-data-description)."
   ]
  },
  {
   "cell_type": "code",
   "execution_count": 1,
   "id": "659c607b",
   "metadata": {},
   "outputs": [
    {
     "name": "stdout",
     "output_type": "stream",
     "text": [
      "Ran the import statements.\n"
     ]
    }
   ],
   "source": [
    "#@title Load the imports\n",
    "\n",
    "import numpy as np\n",
    "import pandas as pd\n",
    "import tensorflow as tf\n",
    "from tensorflow.keras import layers\n",
    "from matplotlib import pyplot as plt\n",
    "\n",
    "# The following lines adjust the granularity of reporting.\n",
    "pd.options.display.max_rows = 10\n",
    "pd.options.display.float_format = \"{:.1f}\".format\n",
    "# tf.keras.backend.set_floatx('float32')\n",
    "\n",
    "print(\"Ran the import statements.\")"
   ]
  },
  {
   "cell_type": "markdown",
   "id": "cab20f71",
   "metadata": {},
   "source": [
    "## Load the dataset from the internet\n",
    "\n",
    "Load the separate .csv files and creates the following two pandas DataFrames:\n",
    "\n",
    "* `train_df`, which contains the training set\n",
    "* `test_df`, which contains the test set"
   ]
  },
  {
   "cell_type": "code",
   "execution_count": 2,
   "id": "c95dbe70",
   "metadata": {},
   "outputs": [],
   "source": [
    "train_df = pd.read_csv(\"https://download.mlcc.google.com/mledu-datasets/california_housing_train.csv\")\n",
    "test_df = pd.read_csv(\"https://download.mlcc.google.com/mledu-datasets/california_housing_test.csv\")\n",
    "\n",
    "train_df = train_df.reindex(np.random.permutation(train_df.index)) # shuffle the training set"
   ]
  },
  {
   "cell_type": "markdown",
   "id": "97bc2d08",
   "metadata": {},
   "source": [
    "## Normalize values\n",
    "When creating a model with multiple features, the values of each feature should cover roughly the same range. For example, if one feature's range spans 500 to 100'000 and another featureìs range spans 2 to 12, then the model would be difficult or impossible to train. Therefore, I will\n",
    "[normalize](https://developers.google.com/machine-learning/glossary/#normalization) features in a multi-feature model.\n",
    "\n",
    "The following code cell normalizes datasets by converting each raw value (including the label) to its Z-score. A **Z-score** is the number of standard deviations from the mean for a particular raw value. For example, consider a feature having the following characteristics:\n",
    "\n",
    "  * The mean is 60.\n",
    "  * The standard deviation is 10.\n",
    "\n",
    "The raw value 75 would have a Z-score of +1.5:\n",
    "\n",
    "```\n",
    "  Z-score = (75 - 60) / 10 = +1.5\n",
    "```\n",
    "\n",
    "The raw value 38 would have a Z-score of -2.2:\n",
    "\n",
    "```\n",
    "  Z-score = (38 - 60) / 10 = -2.2\n",
    "```"
   ]
  },
  {
   "cell_type": "code",
   "execution_count": 3,
   "id": "252c5556",
   "metadata": {},
   "outputs": [
    {
     "data": {
      "text/html": [
       "<div>\n",
       "<style scoped>\n",
       "    .dataframe tbody tr th:only-of-type {\n",
       "        vertical-align: middle;\n",
       "    }\n",
       "\n",
       "    .dataframe tbody tr th {\n",
       "        vertical-align: top;\n",
       "    }\n",
       "\n",
       "    .dataframe thead th {\n",
       "        text-align: right;\n",
       "    }\n",
       "</style>\n",
       "<table border=\"1\" class=\"dataframe\">\n",
       "  <thead>\n",
       "    <tr style=\"text-align: right;\">\n",
       "      <th></th>\n",
       "      <th>longitude</th>\n",
       "      <th>latitude</th>\n",
       "      <th>housing_median_age</th>\n",
       "      <th>total_rooms</th>\n",
       "      <th>total_bedrooms</th>\n",
       "      <th>population</th>\n",
       "      <th>households</th>\n",
       "      <th>median_income</th>\n",
       "      <th>median_house_value</th>\n",
       "    </tr>\n",
       "  </thead>\n",
       "  <tbody>\n",
       "    <tr>\n",
       "      <th>3360</th>\n",
       "      <td>0.8</td>\n",
       "      <td>-0.8</td>\n",
       "      <td>-0.9</td>\n",
       "      <td>1.6</td>\n",
       "      <td>0.8</td>\n",
       "      <td>1.2</td>\n",
       "      <td>0.9</td>\n",
       "      <td>2.0</td>\n",
       "      <td>0.9</td>\n",
       "    </tr>\n",
       "    <tr>\n",
       "      <th>11715</th>\n",
       "      <td>-0.9</td>\n",
       "      <td>1.1</td>\n",
       "      <td>1.9</td>\n",
       "      <td>-1.2</td>\n",
       "      <td>-1.3</td>\n",
       "      <td>-1.2</td>\n",
       "      <td>-1.3</td>\n",
       "      <td>-0.8</td>\n",
       "      <td>-1.2</td>\n",
       "    </tr>\n",
       "    <tr>\n",
       "      <th>7322</th>\n",
       "      <td>0.6</td>\n",
       "      <td>-0.8</td>\n",
       "      <td>-0.9</td>\n",
       "      <td>0.5</td>\n",
       "      <td>1.1</td>\n",
       "      <td>1.0</td>\n",
       "      <td>1.2</td>\n",
       "      <td>-0.3</td>\n",
       "      <td>-0.0</td>\n",
       "    </tr>\n",
       "    <tr>\n",
       "      <th>2174</th>\n",
       "      <td>1.1</td>\n",
       "      <td>-1.1</td>\n",
       "      <td>0.0</td>\n",
       "      <td>-0.6</td>\n",
       "      <td>-0.5</td>\n",
       "      <td>-0.0</td>\n",
       "      <td>-0.5</td>\n",
       "      <td>-1.0</td>\n",
       "      <td>-0.9</td>\n",
       "    </tr>\n",
       "    <tr>\n",
       "      <th>7381</th>\n",
       "      <td>0.6</td>\n",
       "      <td>-0.7</td>\n",
       "      <td>1.4</td>\n",
       "      <td>-0.5</td>\n",
       "      <td>-0.3</td>\n",
       "      <td>-0.8</td>\n",
       "      <td>-0.3</td>\n",
       "      <td>0.1</td>\n",
       "      <td>1.2</td>\n",
       "    </tr>\n",
       "  </tbody>\n",
       "</table>\n",
       "</div>"
      ],
      "text/plain": [
       "       longitude  latitude  housing_median_age  total_rooms  total_bedrooms  \\\n",
       "3360         0.8      -0.8                -0.9          1.6             0.8   \n",
       "11715       -0.9       1.1                 1.9         -1.2            -1.3   \n",
       "7322         0.6      -0.8                -0.9          0.5             1.1   \n",
       "2174         1.1      -1.1                 0.0         -0.6            -0.5   \n",
       "7381         0.6      -0.7                 1.4         -0.5            -0.3   \n",
       "\n",
       "       population  households  median_income  median_house_value  \n",
       "3360          1.2         0.9            2.0                 0.9  \n",
       "11715        -1.2        -1.3           -0.8                -1.2  \n",
       "7322          1.0         1.2           -0.3                -0.0  \n",
       "2174         -0.0        -0.5           -1.0                -0.9  \n",
       "7381         -0.8        -0.3            0.1                 1.2  "
      ]
     },
     "execution_count": 3,
     "metadata": {},
     "output_type": "execute_result"
    }
   ],
   "source": [
    "# Calculate the Z-scores of each column in the training set and\n",
    "# write those Z-scores into a new pandas DataFrame named train_df_norm.\n",
    "train_df_mean = train_df.mean()\n",
    "train_df_std = train_df.std()\n",
    "train_df_norm = (train_df - train_df_mean)/train_df_std\n",
    "\n",
    "# Examine some of the values of the normalized training set. Notice that most\n",
    "# Z-scores fall between -2 and +2.\n",
    "train_df_norm.head()"
   ]
  },
  {
   "cell_type": "code",
   "execution_count": 4,
   "id": "db89faf8",
   "metadata": {},
   "outputs": [
    {
     "data": {
      "text/html": [
       "<div>\n",
       "<style scoped>\n",
       "    .dataframe tbody tr th:only-of-type {\n",
       "        vertical-align: middle;\n",
       "    }\n",
       "\n",
       "    .dataframe tbody tr th {\n",
       "        vertical-align: top;\n",
       "    }\n",
       "\n",
       "    .dataframe thead th {\n",
       "        text-align: right;\n",
       "    }\n",
       "</style>\n",
       "<table border=\"1\" class=\"dataframe\">\n",
       "  <thead>\n",
       "    <tr style=\"text-align: right;\">\n",
       "      <th></th>\n",
       "      <th>longitude</th>\n",
       "      <th>latitude</th>\n",
       "      <th>housing_median_age</th>\n",
       "      <th>total_rooms</th>\n",
       "      <th>total_bedrooms</th>\n",
       "      <th>population</th>\n",
       "      <th>households</th>\n",
       "      <th>median_income</th>\n",
       "      <th>median_house_value</th>\n",
       "    </tr>\n",
       "  </thead>\n",
       "  <tbody>\n",
       "    <tr>\n",
       "      <th>16272</th>\n",
       "      <td>-122.5</td>\n",
       "      <td>37.8</td>\n",
       "      <td>52.0</td>\n",
       "      <td>2245.0</td>\n",
       "      <td>425.0</td>\n",
       "      <td>1091.0</td>\n",
       "      <td>409.0</td>\n",
       "      <td>3.6</td>\n",
       "      <td>331200.0</td>\n",
       "    </tr>\n",
       "    <tr>\n",
       "      <th>7021</th>\n",
       "      <td>-118.3</td>\n",
       "      <td>33.8</td>\n",
       "      <td>35.0</td>\n",
       "      <td>3462.0</td>\n",
       "      <td>814.0</td>\n",
       "      <td>1902.0</td>\n",
       "      <td>700.0</td>\n",
       "      <td>3.4</td>\n",
       "      <td>279900.0</td>\n",
       "    </tr>\n",
       "    <tr>\n",
       "      <th>1136</th>\n",
       "      <td>-117.1</td>\n",
       "      <td>32.8</td>\n",
       "      <td>28.0</td>\n",
       "      <td>2160.0</td>\n",
       "      <td>608.0</td>\n",
       "      <td>1339.0</td>\n",
       "      <td>571.0</td>\n",
       "      <td>1.9</td>\n",
       "      <td>128100.0</td>\n",
       "    </tr>\n",
       "    <tr>\n",
       "      <th>8850</th>\n",
       "      <td>-118.7</td>\n",
       "      <td>34.3</td>\n",
       "      <td>11.0</td>\n",
       "      <td>5451.0</td>\n",
       "      <td>736.0</td>\n",
       "      <td>2526.0</td>\n",
       "      <td>752.0</td>\n",
       "      <td>7.4</td>\n",
       "      <td>343900.0</td>\n",
       "    </tr>\n",
       "    <tr>\n",
       "      <th>14882</th>\n",
       "      <td>-122.2</td>\n",
       "      <td>37.5</td>\n",
       "      <td>13.0</td>\n",
       "      <td>2888.0</td>\n",
       "      <td>546.0</td>\n",
       "      <td>1182.0</td>\n",
       "      <td>504.0</td>\n",
       "      <td>6.0</td>\n",
       "      <td>409300.0</td>\n",
       "    </tr>\n",
       "  </tbody>\n",
       "</table>\n",
       "</div>"
      ],
      "text/plain": [
       "       longitude  latitude  housing_median_age  total_rooms  total_bedrooms  \\\n",
       "16272     -122.5      37.8                52.0       2245.0           425.0   \n",
       "7021      -118.3      33.8                35.0       3462.0           814.0   \n",
       "1136      -117.1      32.8                28.0       2160.0           608.0   \n",
       "8850      -118.7      34.3                11.0       5451.0           736.0   \n",
       "14882     -122.2      37.5                13.0       2888.0           546.0   \n",
       "\n",
       "       population  households  median_income  median_house_value  \n",
       "16272      1091.0       409.0            3.6            331200.0  \n",
       "7021       1902.0       700.0            3.4            279900.0  \n",
       "1136       1339.0       571.0            1.9            128100.0  \n",
       "8850       2526.0       752.0            7.4            343900.0  \n",
       "14882      1182.0       504.0            6.0            409300.0  "
      ]
     },
     "execution_count": 4,
     "metadata": {},
     "output_type": "execute_result"
    }
   ],
   "source": [
    "train_df.head()"
   ]
  },
  {
   "cell_type": "code",
   "execution_count": 4,
   "id": "1d5ba864",
   "metadata": {},
   "outputs": [],
   "source": [
    "test_df_norm = (test_df - train_df_mean) / train_df_std\n",
    "\n",
    "# Note:\n",
    "# I'm trasforming the test data with the values calculated from the training\n",
    "# as I should always transform my datasets with exactly the same values."
   ]
  },
  {
   "cell_type": "markdown",
   "id": "d6597919",
   "metadata": {},
   "source": [
    "## Create a binary label\n",
    "In classification problems the label must be either 0 or 1 for every example. Unfortunately the natural label in the California Housing Dataset, `median_house_value`, contains floating-point values like 80,100 or 85,700 rather than 0s and 1s, while the normalizd version of `median_house_values` contains floating-point values primarly between -3 and +3.\n",
    "\n",
    "The task is to create a new column named `median_house_value_is_high` in both the training and the test set. If the `median_house_value` is higher than a certain arbitrary value (defined by `threshold`), then set `median_house_value_is_high` to 1. Otherwise set it to 0.\n",
    "\n",
    "**Plus:** To convert `True` and `False` to `1` and `0`, I'll use the pandas DataFrame function `astype(float)`."
   ]
  },
  {
   "cell_type": "code",
   "execution_count": 5,
   "id": "621b6958",
   "metadata": {},
   "outputs": [
    {
     "data": {
      "text/plain": [
       "3360    1.0\n",
       "11715   0.0\n",
       "7322    0.0\n",
       "2174    0.0\n",
       "7381    1.0\n",
       "         ..\n",
       "5750    0.0\n",
       "7226    1.0\n",
       "13331   0.0\n",
       "15614   0.0\n",
       "6133    0.0\n",
       "Name: median_house_value_is_high, Length: 8000, dtype: float64"
      ]
     },
     "execution_count": 5,
     "metadata": {},
     "output_type": "execute_result"
    }
   ],
   "source": [
    "threshold = 265000 #75th percentile for median house values.\n",
    "train_df_norm[\"median_house_value_is_high\"] = (train_df[\"median_house_value\"] > threshold).astype(float)\n",
    "test_df_norm[\"median_house_value_is_high\"] = (test_df[\"median_house_value\"] > threshold).astype(float)\n",
    "\n",
    "train_df_norm[\"median_house_value_is_high\"].head(8000)"
   ]
  },
  {
   "cell_type": "markdown",
   "id": "39abe87f",
   "metadata": {},
   "source": [
    "## Represent features as input layers\n",
    "Here I specify the features, `median_income` and `total_rooms`, that I'll ultimately train the model on. These Input objects are instantiated as Keras tensors."
   ]
  },
  {
   "cell_type": "code",
   "execution_count": 6,
   "id": "970de3e6",
   "metadata": {},
   "outputs": [],
   "source": [
    "inputs = {\n",
    "    # Features used to train the model on.\n",
    "    'median_income': tf.keras.Input(shape=(1,)),\n",
    "    'total_rooms': tf.keras.Input(shape=(1,))\n",
    "}"
   ]
  },
  {
   "cell_type": "markdown",
   "id": "3003af0a",
   "metadata": {},
   "source": [
    "## Functions definition to create and train a model"
   ]
  },
  {
   "cell_type": "code",
   "execution_count": 14,
   "id": "9aba33c1",
   "metadata": {},
   "outputs": [
    {
     "name": "stdout",
     "output_type": "stream",
     "text": [
      "Defined create_model and train_model functions.\n"
     ]
    }
   ],
   "source": [
    "#@title Define the functions to create and train a model\n",
    "\n",
    "def create_model(my_inputs, my_learning_rate, METRICS):\n",
    "    \"\"\"\n",
    "    Create and compile a simple classification model.\n",
    "    \"\"\"\n",
    "    # Use a Concatenate layer to concatenate the input layers into a single\n",
    "    # tensor as input for the Dense layer.\n",
    "    # Ex: [input_1[0][0], input_2[0][0]]\n",
    "    concatenated_inputs = tf.keras.layers.Concatenate()(my_inputs.values())\n",
    "    dense = layers.Dense(units=1, name=\"dense_layer\", activation=tf.sigmoid)\n",
    "    dense_output = dense(concatenated_inputs)\n",
    "    \n",
    "    my_outputs = {\n",
    "        'dense': dense_output,\n",
    "    }\n",
    "    model = tf.keras.Model(inputs=my_inputs, outputs=my_outputs)\n",
    "    model.compile(\n",
    "        optimizer=tf.keras.optimizers.experimental.RMSprop(\n",
    "            learning_rate=my_learning_rate),\n",
    "        loss=tf.keras.losses.BinaryCrossentropy(),\n",
    "        metrics=METRICS)\n",
    "    return model\n",
    "\n",
    "def train_model(model, dataset, epochs, label_name, baatch_size=None, shuffle=True):\n",
    "    \"\"\"\n",
    "    Feed a dataset into the model in order to train it.\n",
    "    \"\"\"\n",
    "    \n",
    "    features = {name:np.array(value) for name, value in dataset.items()}\n",
    "    label = np.array(features.pop(label_name))\n",
    "    history = model.fit(x=features,\n",
    "                       y=label,\n",
    "                       batch_size=batch_size,\n",
    "                       epochs=epochs,\n",
    "                       shuffle=shuffle)\n",
    "    epochs = history.epoch\n",
    "    hist = pd.DataFrame(history.history)\n",
    "    \n",
    "    return epochs, hist\n",
    "\n",
    "print(\"Defined create_model and train_model functions.\")"
   ]
  },
  {
   "cell_type": "markdown",
   "id": "fcaf394f",
   "metadata": {},
   "source": [
    "## Define a plotting functions\n",
    "Through matplotlib."
   ]
  },
  {
   "cell_type": "code",
   "execution_count": 20,
   "id": "cab079cc",
   "metadata": {},
   "outputs": [
    {
     "name": "stdout",
     "output_type": "stream",
     "text": [
      "Defined the plot_curve function.\n"
     ]
    }
   ],
   "source": [
    "def plot_curve(epochs, hist, list_of_metrics):\n",
    "    \"\"\"\n",
    "    Plot a curve of one or more classification metrics vs. epoch.\n",
    "    \"\"\"\n",
    "    plt.figure()\n",
    "    plt.xlabel(\"Epoch\")\n",
    "    plt.ylabel(\"Value\")\n",
    "    \n",
    "    for m in list_of_metrics:\n",
    "        x = hist[m]\n",
    "        plt.plot(epochs[1:], x[1:], label=m)\n",
    "    \n",
    "    plt.legend()\n",
    "\n",
    "print(\"Defined the plot_curve function.\")"
   ]
  },
  {
   "cell_type": "markdown",
   "id": "716ebcb7",
   "metadata": {},
   "source": [
    "## Model definition"
   ]
  },
  {
   "cell_type": "code",
   "execution_count": 11,
   "id": "c6e1f74b",
   "metadata": {},
   "outputs": [],
   "source": [
    "# Hyperparameters:\n",
    "learning_rate = 0.001\n",
    "epochs = 20\n",
    "batch_size = 100\n",
    "label_name = \"median_house_value_is_high\"\n",
    "classification_threshold = 0.35\n",
    "\n",
    "# Establish the metrics the model will measure.\n",
    "METRICS = [\n",
    "    tf.keras.metrics.BinaryAccuracy(name='accuracy',\n",
    "                                   threshold=classification_threshold)\n",
    "]\n",
    "\n",
    "# Establish the model's topography.\n",
    "\n",
    "my_model = create_model(inputs, learning_rate, METRICS)\n",
    "\n",
    "# tf.keras.utils.plot_model(my_model, \"my_classification_model.png\")"
   ]
  },
  {
   "cell_type": "code",
   "execution_count": 15,
   "id": "0b470012",
   "metadata": {},
   "outputs": [
    {
     "name": "stdout",
     "output_type": "stream",
     "text": [
      "Epoch 1/20\n"
     ]
    },
    {
     "name": "stderr",
     "output_type": "stream",
     "text": [
      "C:\\Users\\andre\\Desktop\\AI learning\\ai\\Lib\\site-packages\\keras\\src\\engine\\functional.py:639: UserWarning: Input dict contained keys ['longitude', 'latitude', 'housing_median_age', 'total_bedrooms', 'population', 'households', 'median_house_value'] which did not match any model input. They will be ignored by the model.\n",
      "  inputs = self._flatten_to_reference_inputs(inputs)\n"
     ]
    },
    {
     "name": "stdout",
     "output_type": "stream",
     "text": [
      "170/170 [==============================] - 2s 4ms/step - loss: 0.6206 - accuracy: 0.2911\n",
      "Epoch 2/20\n",
      "170/170 [==============================] - 1s 4ms/step - loss: 0.5513 - accuracy: 0.4574\n",
      "Epoch 3/20\n",
      "170/170 [==============================] - 1s 4ms/step - loss: 0.5010 - accuracy: 0.6316\n",
      "Epoch 4/20\n",
      "170/170 [==============================] - 1s 4ms/step - loss: 0.4654 - accuracy: 0.7105\n",
      "Epoch 5/20\n",
      "170/170 [==============================] - 1s 4ms/step - loss: 0.4401 - accuracy: 0.7503\n",
      "Epoch 6/20\n",
      "170/170 [==============================] - 1s 4ms/step - loss: 0.4224 - accuracy: 0.7748\n",
      "Epoch 7/20\n",
      "170/170 [==============================] - 1s 4ms/step - loss: 0.4108 - accuracy: 0.7901\n",
      "Epoch 8/20\n",
      "170/170 [==============================] - 1s 4ms/step - loss: 0.4042 - accuracy: 0.7993\n",
      "Epoch 9/20\n",
      "170/170 [==============================] - 1s 4ms/step - loss: 0.4006 - accuracy: 0.8041\n",
      "Epoch 10/20\n",
      "170/170 [==============================] - 1s 4ms/step - loss: 0.3986 - accuracy: 0.8072\n",
      "Epoch 11/20\n",
      "170/170 [==============================] - 1s 4ms/step - loss: 0.3977 - accuracy: 0.8072\n",
      "Epoch 12/20\n",
      "170/170 [==============================] - 1s 4ms/step - loss: 0.3972 - accuracy: 0.8084\n",
      "Epoch 13/20\n",
      "170/170 [==============================] - 1s 4ms/step - loss: 0.3969 - accuracy: 0.8084\n",
      "Epoch 14/20\n",
      "170/170 [==============================] - 1s 4ms/step - loss: 0.3967 - accuracy: 0.8083\n",
      "Epoch 15/20\n",
      "170/170 [==============================] - 1s 4ms/step - loss: 0.3967 - accuracy: 0.8091\n",
      "Epoch 16/20\n",
      "170/170 [==============================] - 1s 4ms/step - loss: 0.3966 - accuracy: 0.8085\n",
      "Epoch 17/20\n",
      "170/170 [==============================] - 1s 4ms/step - loss: 0.3966 - accuracy: 0.8089\n",
      "Epoch 18/20\n",
      "170/170 [==============================] - 1s 4ms/step - loss: 0.3966 - accuracy: 0.8094\n",
      "Epoch 19/20\n",
      "170/170 [==============================] - 1s 4ms/step - loss: 0.3966 - accuracy: 0.8094\n",
      "Epoch 20/20\n",
      "170/170 [==============================] - 1s 4ms/step - loss: 0.3966 - accuracy: 0.8091\n"
     ]
    }
   ],
   "source": [
    "epochs, hist = train_model(my_model, train_df_norm, epochs,\n",
    "                           label_name, batch_size)"
   ]
  },
  {
   "cell_type": "code",
   "execution_count": 24,
   "id": "7257db4e",
   "metadata": {},
   "outputs": [
    {
     "data": {
      "image/png": "[encoded data removed]",
      "text/plain": [
       "<Figure size 640x480 with 1 Axes>"
      ]
     },
     "metadata": {},
     "output_type": "display_data"
    }
   ],
   "source": [
    "# Plot metrics vs. epochs\n",
    "list_of_metrics_to_plot = ['accuracy']\n",
    "plot_curve(epochs, hist, list_of_metrics_to_plot)"
   ]
  },
  {
   "cell_type": "code",
   "execution_count": 25,
   "id": "2e1d86a1",
   "metadata": {},
   "outputs": [
    {
     "name": "stdout",
     "output_type": "stream",
     "text": [
      "30/30 [==============================] - 1s 4ms/step - loss: 0.4071 - accuracy: 0.8050\n"
     ]
    },
    {
     "data": {
      "text/plain": [
       "[0.40709438920021057, 0.8050000071525574]"
      ]
     },
     "execution_count": 25,
     "metadata": {},
     "output_type": "execute_result"
    }
   ],
   "source": [
    "features = {name:np.array(value) for name, value in test_df_norm.items()}\n",
    "label = np.array(features.pop(label_name))\n",
    "\n",
    "my_model.evaluate(x = features, y = label, batch_size=batch_size)"
   ]
  },
  {
   "cell_type": "code",
   "execution_count": 26,
   "id": "0d776f96",
   "metadata": {},
   "outputs": [],
   "source": [
    "# Result interpretation:\n",
    "# Accuracy = Correct Predictions / Total Predictions\n",
    "# perfect model has 100% of accuracy\n",
    "# always false has 75% of accuracy\n",
    "\n",
    "# 80% seems good but feels there could be also improvement"
   ]
  },
  {
   "cell_type": "code",
   "execution_count": 33,
   "id": "a74c26a1",
   "metadata": {},
   "outputs": [
    {
     "name": "stdout",
     "output_type": "stream",
     "text": [
      "Epoch 1/20\n",
      "170/170 [==============================] - 2s 4ms/step - loss: 0.9434 - accuracy: 0.3434 - precision: 0.0842 - recall: 0.1648\n",
      "Epoch 2/20\n",
      "170/170 [==============================] - 1s 4ms/step - loss: 0.8428 - accuracy: 0.4608 - precision: 0.0717 - recall: 0.0970\n",
      "Epoch 3/20\n",
      "170/170 [==============================] - 1s 4ms/step - loss: 0.7564 - accuracy: 0.6422 - precision: 0.0858 - recall: 0.0447\n",
      "Epoch 4/20\n",
      "170/170 [==============================] - 1s 4ms/step - loss: 0.6828 - accuracy: 0.7235 - precision: 0.1542 - recall: 0.0238\n",
      "Epoch 5/20\n",
      "170/170 [==============================] - 1s 4ms/step - loss: 0.6216 - accuracy: 0.7389 - precision: 0.2019 - recall: 0.0153\n",
      "Epoch 6/20\n",
      "170/170 [==============================] - 1s 4ms/step - loss: 0.5711 - accuracy: 0.7454 - precision: 0.2990 - recall: 0.0144\n",
      "Epoch 7/20\n",
      "170/170 [==============================] - 1s 4ms/step - loss: 0.5302 - accuracy: 0.7495 - precision: 0.4674 - recall: 0.0202\n",
      "Epoch 8/20\n",
      "170/170 [==============================] - 1s 4ms/step - loss: 0.4977 - accuracy: 0.7601 - precision: 0.7649 - recall: 0.0575\n",
      "Epoch 9/20\n",
      "170/170 [==============================] - 1s 4ms/step - loss: 0.4717 - accuracy: 0.7759 - precision: 0.8854 - recall: 0.1182\n",
      "Epoch 10/20\n",
      "170/170 [==============================] - 1s 4ms/step - loss: 0.4508 - accuracy: 0.7925 - precision: 0.9118 - recall: 0.1874\n",
      "Epoch 11/20\n",
      "170/170 [==============================] - 1s 5ms/step - loss: 0.4342 - accuracy: 0.8085 - precision: 0.9224 - recall: 0.2548\n",
      "Epoch 12/20\n",
      "170/170 [==============================] - 1s 4ms/step - loss: 0.4216 - accuracy: 0.8218 - precision: 0.9049 - recall: 0.3205\n",
      "Epoch 13/20\n",
      "170/170 [==============================] - 1s 5ms/step - loss: 0.4124 - accuracy: 0.8302 - precision: 0.8765 - recall: 0.3727\n",
      "Epoch 14/20\n",
      "170/170 [==============================] - 1s 4ms/step - loss: 0.4059 - accuracy: 0.8327 - precision: 0.8454 - recall: 0.4043\n",
      "Epoch 15/20\n",
      "170/170 [==============================] - 1s 4ms/step - loss: 0.4019 - accuracy: 0.8349 - precision: 0.8240 - recall: 0.4311\n",
      "Epoch 16/20\n",
      "170/170 [==============================] - 1s 4ms/step - loss: 0.3994 - accuracy: 0.8358 - precision: 0.8121 - recall: 0.4457\n",
      "Epoch 17/20\n",
      "170/170 [==============================] - 1s 4ms/step - loss: 0.3981 - accuracy: 0.8359 - precision: 0.8060 - recall: 0.4521\n",
      "Epoch 18/20\n",
      "170/170 [==============================] - 1s 4ms/step - loss: 0.3973 - accuracy: 0.8363 - precision: 0.7961 - recall: 0.4634\n",
      "Epoch 19/20\n",
      "170/170 [==============================] - 1s 4ms/step - loss: 0.3970 - accuracy: 0.8368 - precision: 0.7940 - recall: 0.4683\n",
      "Epoch 20/20\n",
      "170/170 [==============================] - 1s 4ms/step - loss: 0.3968 - accuracy: 0.8366 - precision: 0.7914 - recall: 0.4700\n"
     ]
    },
    {
     "data": {
      "image/png": "[encoded data removed]",
      "text/plain": [
       "<Figure size 640x480 with 1 Axes>"
      ]
     },
     "metadata": {},
     "output_type": "display_data"
    }
   ],
   "source": [
    "# Let us add precision and recall\n",
    "learning_rate = 0.001\n",
    "epochs = 20\n",
    "batch_size = 100\n",
    "classification_threshold = 0.52 #modified using new metrics\n",
    "label_name = \"median_house_value_is_high\"\n",
    "METRICS = [\n",
    "    tf.keras.metrics.BinaryAccuracy(name='accuracy',\n",
    "                                   threshold=classification_threshold),\n",
    "    tf.keras.metrics.Precision(name='precision',\n",
    "                              thresholds=classification_threshold),\n",
    "    tf.keras.metrics.Recall(name='recall',\n",
    "                           thresholds=classification_threshold)\n",
    "]\n",
    "\n",
    "my_model = create_model(inputs, learning_rate, METRICS)\n",
    "\n",
    "epochs, hist = train_model(my_model, train_df_norm, epochs,\n",
    "                           label_name, batch_size)\n",
    "\n",
    "list_of_metrics_to_plot = ['accuracy', 'precision', 'recall']\n",
    "plot_curve(epochs, hist, list_of_metrics_to_plot)"
   ]
  },
  {
   "cell_type": "markdown",
   "id": "68d9191b",
   "metadata": {},
   "source": [
    "## Model Performance Summary"
   ]
  },
  {
   "cell_type": "code",
   "execution_count": 34,
   "id": "00c54e46",
   "metadata": {},
   "outputs": [
    {
     "name": "stdout",
     "output_type": "stream",
     "text": [
      "Epoch 1/20\n",
      "170/170 [==============================] - 2s 4ms/step - loss: 0.9067 - auc: 0.2207\n",
      "Epoch 2/20\n",
      "170/170 [==============================] - 1s 4ms/step - loss: 0.8117 - auc: 0.2337\n",
      "Epoch 3/20\n",
      "170/170 [==============================] - 1s 4ms/step - loss: 0.7287 - auc: 0.2557\n",
      "Epoch 4/20\n",
      "170/170 [==============================] - 1s 4ms/step - loss: 0.6580 - auc: 0.2990\n",
      "Epoch 5/20\n",
      "170/170 [==============================] - 1s 4ms/step - loss: 0.5989 - auc: 0.4218\n",
      "Epoch 6/20\n",
      "170/170 [==============================] - 1s 4ms/step - loss: 0.5507 - auc: 0.6829\n",
      "Epoch 7/20\n",
      "170/170 [==============================] - 1s 4ms/step - loss: 0.5134 - auc: 0.7887\n",
      "Epoch 8/20\n",
      "170/170 [==============================] - 1s 4ms/step - loss: 0.4836 - auc: 0.8171\n",
      "Epoch 9/20\n",
      "170/170 [==============================] - 1s 4ms/step - loss: 0.4600 - auc: 0.8268\n",
      "Epoch 10/20\n",
      "170/170 [==============================] - 1s 4ms/step - loss: 0.4418 - auc: 0.8313\n",
      "Epoch 11/20\n",
      "170/170 [==============================] - 1s 4ms/step - loss: 0.4274 - auc: 0.8341\n",
      "Epoch 12/20\n",
      "170/170 [==============================] - 1s 4ms/step - loss: 0.4166 - auc: 0.8352\n",
      "Epoch 13/20\n",
      "170/170 [==============================] - 1s 4ms/step - loss: 0.4088 - auc: 0.8361\n",
      "Epoch 14/20\n",
      "170/170 [==============================] - 1s 4ms/step - loss: 0.4035 - auc: 0.8364\n",
      "Epoch 15/20\n",
      "170/170 [==============================] - 1s 4ms/step - loss: 0.4004 - auc: 0.8364\n",
      "Epoch 16/20\n",
      "170/170 [==============================] - 1s 4ms/step - loss: 0.3985 - auc: 0.8368\n",
      "Epoch 17/20\n",
      "170/170 [==============================] - 1s 4ms/step - loss: 0.3976 - auc: 0.8365\n",
      "Epoch 18/20\n",
      "170/170 [==============================] - 1s 4ms/step - loss: 0.3971 - auc: 0.8369\n",
      "Epoch 19/20\n",
      "170/170 [==============================] - 1s 4ms/step - loss: 0.3969 - auc: 0.8368\n",
      "Epoch 20/20\n",
      "170/170 [==============================] - 1s 4ms/step - loss: 0.3968 - auc: 0.8367\n"
     ]
    },
    {
     "data": {
      "image/png": "[encoded data removed]",
      "text/plain": [
       "<Figure size 640x480 with 1 Axes>"
      ]
     },
     "metadata": {},
     "output_type": "display_data"
    }
   ],
   "source": [
    "learning_rate = 0.001\n",
    "epochs = 20\n",
    "batch_size = 100\n",
    "label_name = \"median_house_value_is_high\"\n",
    "\n",
    "# AUC is a reasonable \"summary\" metric for\n",
    "# classification models.\n",
    "# Here is the updated definition of METRICS to\n",
    "# measure AUC:\n",
    "METRICS = [\n",
    "      tf.keras.metrics.AUC(num_thresholds=100, name='auc'),\n",
    "]\n",
    "\n",
    "# Establish the model's topography.\n",
    "my_model = create_model(inputs, learning_rate, METRICS)\n",
    "\n",
    "# Train the model on the training set.\n",
    "epochs, hist = train_model(my_model, train_df_norm, epochs,\n",
    "                           label_name, batch_size)\n",
    "\n",
    "# Plot metrics vs. epochs\n",
    "list_of_metrics_to_plot = ['auc']\n",
    "plot_curve(epochs, hist, list_of_metrics_to_plot)"
   ]
  }
 ],
 "metadata": {
  "kernelspec": {
   "display_name": "Artificial Intelligence",
   "language": "python",
   "name": "ai"
  },
  "language_info": {
   "codemirror_mode": {
    "name": "ipython",
    "version": 3
   },
   "file_extension": ".py",
   "mimetype": "text/x-python",
   "name": "python",
   "nbconvert_exporter": "python",
   "pygments_lexer": "ipython3",
   "version": "3.11.3"
  }
 },
 "nbformat": 4,
 "nbformat_minor": 5
}
