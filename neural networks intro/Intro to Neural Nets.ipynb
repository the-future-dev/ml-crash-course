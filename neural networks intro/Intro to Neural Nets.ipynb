{
 "cells": [
  {
   "cell_type": "code",
   "execution_count": 1,
   "id": "c93c9b51",
   "metadata": {},
   "outputs": [],
   "source": [
    "#@title Imports\n",
    "import numpy as np\n",
    "import pandas as pd\n",
    "import tensorflow as tf\n",
    "from matplotlib import pyplot as plt\n",
    "import seaborn as sns\n",
    "\n",
    "# The following lines adjust the granularity of reporting.\n",
    "pd.options.display.max_rows = 10\n",
    "pd.options.display.float_format = \"{:.1f}\".format\n"
   ]
  },
  {
   "cell_type": "code",
   "execution_count": 2,
   "id": "1632d74e",
   "metadata": {},
   "outputs": [],
   "source": [
    "#@title Load the dataset\n",
    "train_df = pd.read_csv(\"https://download.mlcc.google.com/mledu-datasets/california_housing_train.csv\")\n",
    "train_df = train_df.reindex(np.random.permutation(train_df.index)) # shuffle the examples\n",
    "test_df = pd.read_csv(\"https://download.mlcc.google.com/mledu-datasets/california_housing_test.csv\")"
   ]
  },
  {
   "cell_type": "markdown",
   "id": "af719408",
   "metadata": {},
   "source": [
    "## Represent data\n",
    "The following code creates preprocessing layers outputting three features:\n",
    "\n",
    "* `latitude` X `longitude` (as feature cross)\n",
    "* `median_income`\n",
    "* `population`"
   ]
  },
  {
   "cell_type": "code",
   "execution_count": 16,
   "id": "854f380a",
   "metadata": {},
   "outputs": [
    {
     "name": "stdout",
     "output_type": "stream",
     "text": [
      "Preprocessing layers defined.\n"
     ]
    }
   ],
   "source": [
    " inputs = {\n",
    "    'latitude': tf.keras.Input(shape=(1,),\n",
    "                              dtype=tf.float32,\n",
    "                              name='latitude'),\n",
    "    'longitude': tf.keras.Input(shape=(1,),\n",
    "                               dtype=tf.float32,\n",
    "                               name='longitude'),\n",
    "    'median_income': tf.keras.Input(shape=(1,),\n",
    "                                   dtype=tf.float32,\n",
    "                                   name='median_income'),\n",
    "    'population': tf.keras.layers.Input(shape=(1,),\n",
    "                                       dtype=tf.float32,\n",
    "                                       name='population')\n",
    "}\n",
    "\n",
    "# Normalization layer to normalize the median_income data\n",
    "median_income = tf.keras.layers.Normalization(\n",
    "    name='normalization_median_income',\n",
    "    axis=None)\n",
    "median_income.adapt(train_df['median_income'])\n",
    "median_income = median_income(inputs.get('median_income'))\n",
    "\n",
    "# Normalization layer to normalize the population data\n",
    "population = tf.keras.layers.Normalization(\n",
    "    name='normalization_population',\n",
    "    axis=None)\n",
    "population.adapt(train_df['population'])\n",
    "population = population(inputs.get('population'))\n",
    "\n",
    "# Create a list of numbers representig the bucktes boundaries for latitude.\n",
    "# 20 buckets => 21 boundaries\n",
    "latitude_boundaries = np.linspace(-3, 3, 21)\n",
    "\n",
    "# Normalization layer for latitude data\n",
    "latitude = tf.keras.layers.Normalization(\n",
    "    name='normalization_latitude',\n",
    "    axis=None\n",
    ")\n",
    "latitude.adapt(train_df['latitude'])\n",
    "latitude = latitude(inputs.get('latitude'))\n",
    "\n",
    "latitude = tf.keras.layers.Discretization(\n",
    "    bin_boundaries=latitude_boundaries,\n",
    "    name='discretization_latitude') (latitude)\n",
    "\n",
    "# same for longitude\n",
    "longitude_boudaries = np.linspace(-3, 3, 21)\n",
    "longitude = tf.keras.layers.Normalization(\n",
    "    name='normalization_longitude',\n",
    "    axis=None)\n",
    "longitude.adapt(train_df['longitude'])\n",
    "longitude = longitude(inputs.get('longitude'))\n",
    "\n",
    "longitude = tf.keras.layers.Discretization(\n",
    "    bin_boundaries=longitude_boudaries,\n",
    "    name='discretization_longitude')(longitude)\n",
    "\n",
    "# Cross feature between latitude and longitude into a single one-hot vector.\n",
    "feature_cross = tf.keras.layers.HashedCrossing(\n",
    "    num_bins=len(latitude_boundaries) * len(longitude_boudaries),\n",
    "    output_mode='one_hot',\n",
    "    name='cross_latitude_longitude')([latitude, longitude])\n",
    "\n",
    "# Concatenate our inputs into a single tensor.\n",
    "preprocessing_layers = tf.keras.layers.Concatenate()(\n",
    "    [feature_cross, median_income, population])\n",
    "\n",
    "print(\"Preprocessing layers defined.\")"
   ]
  },
  {
   "cell_type": "markdown",
   "id": "7c392117",
   "metadata": {},
   "source": [
    "## Build a linear regression model as a baseline"
   ]
  },
  {
   "cell_type": "code",
   "execution_count": 17,
   "id": "1b0beadb",
   "metadata": {},
   "outputs": [
    {
     "name": "stdout",
     "output_type": "stream",
     "text": [
      "Defined the plot_the_loss_curve function.\n"
     ]
    }
   ],
   "source": [
    "#@title Plotting Function\n",
    "def plot_the_loss_curve(epochs, mse_training, mse_validation):\n",
    "  \"\"\"Plot a curve of loss vs. epoch.\"\"\"\n",
    "\n",
    "  plt.figure()\n",
    "  plt.xlabel(\"Epoch\")\n",
    "  plt.ylabel(\"Mean Squared Error\")\n",
    "\n",
    "  plt.plot(epochs, mse_training, label=\"Training Loss\")\n",
    "  plt.plot(epochs, mse_validation, label=\"Validation Loss\")\n",
    "\n",
    "  # mse_training is a pandas Series, so convert it to a list first.\n",
    "  merged_mse_lists = mse_training.tolist() + mse_validation\n",
    "  highest_loss = max(merged_mse_lists)\n",
    "  lowest_loss = min(merged_mse_lists)\n",
    "  top_of_y_axis = highest_loss * 1.03\n",
    "  bottom_of_y_axis = lowest_loss * 0.97\n",
    "\n",
    "  plt.ylim([bottom_of_y_axis, top_of_y_axis])\n",
    "  plt.legend()\n",
    "  plt.show()\n",
    "\n",
    "print(\"Defined the plot_the_loss_curve function.\")"
   ]
  },
  {
   "cell_type": "code",
   "execution_count": 21,
   "id": "fda6ec66",
   "metadata": {},
   "outputs": [
    {
     "name": "stdout",
     "output_type": "stream",
     "text": [
      "Defined the create_model and train_model functions.\n"
     ]
    }
   ],
   "source": [
    "#@title Model creation and training functions\n",
    "\n",
    "def create_model(my_inputs, my_outputs, my_learning_rate):\n",
    "    \"\"\"\n",
    "    Create and compile a (simple) linear regression model.\n",
    "    \"\"\"\n",
    "    model = tf.keras.Model(inputs=my_inputs, outputs=my_outputs)\n",
    "    model.compile(optimizer=tf.keras.optimizers.Adam(\n",
    "        learning_rate=my_learning_rate),\n",
    "        loss=\"mean_squared_error\",\n",
    "        metrics=[tf.keras.metrics.MeanSquaredError()])\n",
    "    return model\n",
    "\n",
    "def train_model(model, dataset, epochs, batch_size, label_name, validation_split=0.1):\n",
    "    \"\"\"\n",
    "    Feed a dataset into the model in order to train it.\n",
    "    \"\"\"\n",
    "    \n",
    "    features = {name:np.array(value) for name, value in dataset.items()}\n",
    "    label = train_median_house_value_normalized(\n",
    "      np.array(features.pop(label_name)))\n",
    "    history = model.fit(x=features, y=label, batch_size=batch_size,\n",
    "                      epochs=epochs, shuffle=True, validation_split=validation_split)\n",
    "\n",
    "    # Get details that will be useful for plotting the loss curve.\n",
    "    epochs = history.epoch\n",
    "    hist = pd.DataFrame(history.history)\n",
    "    mse = hist[\"mean_squared_error\"]\n",
    "\n",
    "    return epochs, mse, history.history\n",
    "\n",
    "print(\"Defined the create_model and train_model functions.\")"
   ]
  },
  {
   "cell_type": "code",
   "execution_count": 22,
   "id": "0eea14e6",
   "metadata": {},
   "outputs": [],
   "source": [
    "#@title Define normalized label columns\n",
    "# Create Normalization layers to normalize the median_house_value data.\n",
    "# Because median_house_value is our label (i.e., the target value we're\n",
    "# predicting), these layers won't be added to our model.\n",
    "train_median_house_value_normalized = tf.keras.layers.Normalization(axis=None)\n",
    "train_median_house_value_normalized.adapt(\n",
    "    np.array(train_df['median_house_value']))\n",
    "\n",
    "test_median_house_value_normalized = tf.keras.layers.Normalization(axis=None)\n",
    "test_median_house_value_normalized.adapt(\n",
    "    np.array(test_df['median_house_value']))"
   ]
  },
  {
   "cell_type": "code",
   "execution_count": 23,
   "id": "348a4539",
   "metadata": {},
   "outputs": [],
   "source": [
    "#@title Define linear regression model outputs\n",
    "def get_outputs_linear_regression():\n",
    "  # Create the Dense output layer.\n",
    "  dense_output = tf.keras.layers.Dense(units=1,\n",
    "                              name='dense_output')(preprocessing_layers)\n",
    "\n",
    "  # Define an output dictionary we'll send to the model constructor.\n",
    "  outputs = {\n",
    "    'dense_output': dense_output\n",
    "  }\n",
    "  return outputs"
   ]
  },
  {
   "cell_type": "code",
   "execution_count": 24,
   "id": "452319e9",
   "metadata": {},
   "outputs": [
    {
     "name": "stdout",
     "output_type": "stream",
     "text": [
      "Epoch 1/15\n"
     ]
    },
    {
     "name": "stderr",
     "output_type": "stream",
     "text": [
      "C:\\Users\\andre\\anaconda3\\Lib\\site-packages\\keras\\src\\engine\\functional.py:639: UserWarning: Input dict contained keys ['housing_median_age', 'total_rooms', 'total_bedrooms', 'households'] which did not match any model input. They will be ignored by the model.\n",
      "  inputs = self._flatten_to_reference_inputs(inputs)\n"
     ]
    },
    {
     "name": "stdout",
     "output_type": "stream",
     "text": [
      "14/14 [==============================] - 2s 69ms/step - loss: 0.9193 - mean_squared_error: 0.9193 - val_loss: 0.7391 - val_mean_squared_error: 0.7391\n",
      "Epoch 2/15\n",
      "14/14 [==============================] - 0s 20ms/step - loss: 0.6600 - mean_squared_error: 0.6600 - val_loss: 0.5408 - val_mean_squared_error: 0.5408\n",
      "Epoch 3/15\n",
      "14/14 [==============================] - 0s 20ms/step - loss: 0.4981 - mean_squared_error: 0.4981 - val_loss: 0.4234 - val_mean_squared_error: 0.4234\n",
      "Epoch 4/15\n",
      "14/14 [==============================] - 0s 19ms/step - loss: 0.4107 - mean_squared_error: 0.4107 - val_loss: 0.3638 - val_mean_squared_error: 0.3638\n",
      "Epoch 5/15\n",
      "14/14 [==============================] - 0s 20ms/step - loss: 0.3694 - mean_squared_error: 0.3694 - val_loss: 0.3375 - val_mean_squared_error: 0.3375\n",
      "Epoch 6/15\n",
      "14/14 [==============================] - 0s 19ms/step - loss: 0.3525 - mean_squared_error: 0.3525 - val_loss: 0.3266 - val_mean_squared_error: 0.3266\n",
      "Epoch 7/15\n",
      "14/14 [==============================] - 0s 20ms/step - loss: 0.3462 - mean_squared_error: 0.3462 - val_loss: 0.3222 - val_mean_squared_error: 0.3222\n",
      "Epoch 8/15\n",
      "14/14 [==============================] - 0s 20ms/step - loss: 0.3441 - mean_squared_error: 0.3441 - val_loss: 0.3206 - val_mean_squared_error: 0.3206\n",
      "Epoch 9/15\n",
      "14/14 [==============================] - 0s 20ms/step - loss: 0.3431 - mean_squared_error: 0.3431 - val_loss: 0.3202 - val_mean_squared_error: 0.3202\n",
      "Epoch 10/15\n",
      "14/14 [==============================] - 0s 19ms/step - loss: 0.3425 - mean_squared_error: 0.3425 - val_loss: 0.3197 - val_mean_squared_error: 0.3197\n",
      "Epoch 11/15\n",
      "14/14 [==============================] - 0s 21ms/step - loss: 0.3419 - mean_squared_error: 0.3419 - val_loss: 0.3196 - val_mean_squared_error: 0.3196\n",
      "Epoch 12/15\n",
      "14/14 [==============================] - 0s 20ms/step - loss: 0.3416 - mean_squared_error: 0.3416 - val_loss: 0.3196 - val_mean_squared_error: 0.3196\n",
      "Epoch 13/15\n",
      "14/14 [==============================] - 0s 19ms/step - loss: 0.3415 - mean_squared_error: 0.3415 - val_loss: 0.3195 - val_mean_squared_error: 0.3195\n",
      "Epoch 14/15\n",
      "14/14 [==============================] - 0s 20ms/step - loss: 0.3413 - mean_squared_error: 0.3413 - val_loss: 0.3194 - val_mean_squared_error: 0.3194\n",
      "Epoch 15/15\n",
      "14/14 [==============================] - 0s 18ms/step - loss: 0.3412 - mean_squared_error: 0.3412 - val_loss: 0.3192 - val_mean_squared_error: 0.3192\n"
     ]
    },
    {
     "data": {
      "image/png": "[encoded data removed]",
      "text/plain": [
       "<Figure size 640x480 with 1 Axes>"
      ]
     },
     "metadata": {},
     "output_type": "display_data"
    },
    {
     "name": "stdout",
     "output_type": "stream",
     "text": [
      "\n",
      " Evaluate the linear regression model against the test set:\n",
      "3/3 [==============================] - 0s 17ms/step - loss: 0.3609 - mean_squared_error: 0.3609\n"
     ]
    },
    {
     "data": {
      "text/plain": [
       "{'loss': 0.36093875765800476, 'mean_squared_error': 0.36093875765800476}"
      ]
     },
     "execution_count": 24,
     "metadata": {},
     "output_type": "execute_result"
    }
   ],
   "source": [
    "# Hyperparameters\n",
    "learning_rate = 0.01\n",
    "epochs = 15\n",
    "batch_size = 1000\n",
    "label_name = \"median_house_value\"\n",
    "\n",
    "validation_split = 0.2\n",
    "\n",
    "outputs = get_outputs_linear_regression()\n",
    "\n",
    "# Model's topography\n",
    "my_model = create_model(inputs, outputs, learning_rate)\n",
    "\n",
    "# Train the model\n",
    "epochs, mse, history = train_model(my_model, train_df, epochs, batch_size, label_name, validation_split)\n",
    "plot_the_loss_curve(epochs, mse, history[\"val_mean_squared_error\"])\n",
    "\n",
    "test_features = {name:np.array(value) for name, value in test_df.items()}\n",
    "test_label = test_median_house_value_normalized(test_features.pop(label_name)) # isolate the label\n",
    "print(\"\\n Evaluate the linear regression model against the test set:\")\n",
    "my_model.evaluate(x = test_features, y = test_label, batch_size=batch_size, return_dict=True)"
   ]
  },
  {
   "cell_type": "markdown",
   "id": "5a5a7e9c",
   "metadata": {},
   "source": [
    "## Define a deep neural net model\n",
    "The `get_outputs_dnn` function defines the topography of the deep neural net (DNN), specifying the following:\n",
    "\n",
    "* The number of [layers](https://developers.google.com/machine-learning/glossary/#layer) in the deep neural net.\n",
    "* The number of [nodes](https://developers.google.com/machine-learning/glossary/#node) in each layer.\n",
    "\n",
    "The `get_outputs_dnn` function also defines the [activation function](https://developers.google.com/machine-learning/glossary/#activation_function) of each layer.\n",
    "\n",
    "The first `Dense` layer takes our previously defined `preprocessing_layers` as input."
   ]
  },
  {
   "cell_type": "code",
   "execution_count": 51,
   "id": "41aa6c82",
   "metadata": {},
   "outputs": [],
   "source": [
    "def get_outputs_dnn():\n",
    "    # Create a Dense layer with 20 nodes.\n",
    "    dense_output = tf.keras.layers.Dense(units=10,\n",
    "                                        activation='relu',\n",
    "                                        name='hidden_dense_layer_1')(preprocessing_layers)\n",
    "    dense_output = tf.keras.layers.Dense(units=6,\n",
    "                                        activation='relu',\n",
    "                                        name='hidden_dense_layer_2')(dense_output)\n",
    "    dense_output = tf.keras.layers.Dense(units=1,\n",
    "                                        name='dense_output')(dense_output)\n",
    "    \n",
    "    outputs = {\n",
    "        'dense_output': dense_output\n",
    "    }\n",
    "    return outputs"
   ]
  },
  {
   "cell_type": "markdown",
   "id": "9ce7c2a9",
   "metadata": {},
   "source": [
    "## Build and train a deep neural network"
   ]
  },
  {
   "cell_type": "code",
   "execution_count": 52,
   "id": "41cda34d",
   "metadata": {},
   "outputs": [
    {
     "name": "stdout",
     "output_type": "stream",
     "text": [
      "Epoch 1/20\n"
     ]
    },
    {
     "name": "stderr",
     "output_type": "stream",
     "text": [
      "C:\\Users\\andre\\anaconda3\\Lib\\site-packages\\keras\\src\\engine\\functional.py:639: UserWarning: Input dict contained keys ['housing_median_age', 'total_rooms', 'total_bedrooms', 'households'] which did not match any model input. They will be ignored by the model.\n",
      "  inputs = self._flatten_to_reference_inputs(inputs)\n"
     ]
    },
    {
     "name": "stdout",
     "output_type": "stream",
     "text": [
      "14/14 [==============================] - 1s 23ms/step - loss: 0.7090 - mean_squared_error: 0.7090 - val_loss: 0.3970 - val_mean_squared_error: 0.3970\n",
      "Epoch 2/20\n",
      "14/14 [==============================] - 0s 8ms/step - loss: 0.3912 - mean_squared_error: 0.3912 - val_loss: 0.3229 - val_mean_squared_error: 0.3229\n",
      "Epoch 3/20\n",
      "14/14 [==============================] - 0s 8ms/step - loss: 0.3440 - mean_squared_error: 0.3440 - val_loss: 0.3124 - val_mean_squared_error: 0.3124\n",
      "Epoch 4/20\n",
      "14/14 [==============================] - 0s 8ms/step - loss: 0.3333 - mean_squared_error: 0.3333 - val_loss: 0.3102 - val_mean_squared_error: 0.3102\n",
      "Epoch 5/20\n",
      "14/14 [==============================] - 0s 8ms/step - loss: 0.3306 - mean_squared_error: 0.3306 - val_loss: 0.3099 - val_mean_squared_error: 0.3099\n",
      "Epoch 6/20\n",
      "14/14 [==============================] - 0s 8ms/step - loss: 0.3281 - mean_squared_error: 0.3281 - val_loss: 0.3073 - val_mean_squared_error: 0.3073\n",
      "Epoch 7/20\n",
      "14/14 [==============================] - 0s 9ms/step - loss: 0.3271 - mean_squared_error: 0.3271 - val_loss: 0.3115 - val_mean_squared_error: 0.3115\n",
      "Epoch 8/20\n",
      "14/14 [==============================] - 0s 9ms/step - loss: 0.3279 - mean_squared_error: 0.3279 - val_loss: 0.3079 - val_mean_squared_error: 0.3079\n",
      "Epoch 9/20\n",
      "14/14 [==============================] - 0s 8ms/step - loss: 0.3260 - mean_squared_error: 0.3260 - val_loss: 0.3076 - val_mean_squared_error: 0.3076\n",
      "Epoch 10/20\n",
      "14/14 [==============================] - 0s 7ms/step - loss: 0.3268 - mean_squared_error: 0.3268 - val_loss: 0.3082 - val_mean_squared_error: 0.3082\n",
      "Epoch 11/20\n",
      "14/14 [==============================] - 0s 9ms/step - loss: 0.3255 - mean_squared_error: 0.3255 - val_loss: 0.3106 - val_mean_squared_error: 0.3106\n",
      "Epoch 12/20\n",
      "14/14 [==============================] - 0s 8ms/step - loss: 0.3248 - mean_squared_error: 0.3248 - val_loss: 0.3071 - val_mean_squared_error: 0.3071\n",
      "Epoch 13/20\n",
      "14/14 [==============================] - 0s 8ms/step - loss: 0.3241 - mean_squared_error: 0.3241 - val_loss: 0.3082 - val_mean_squared_error: 0.3082\n",
      "Epoch 14/20\n",
      "14/14 [==============================] - 0s 9ms/step - loss: 0.3245 - mean_squared_error: 0.3245 - val_loss: 0.3073 - val_mean_squared_error: 0.3073\n",
      "Epoch 15/20\n",
      "14/14 [==============================] - 0s 14ms/step - loss: 0.3238 - mean_squared_error: 0.3238 - val_loss: 0.3077 - val_mean_squared_error: 0.3077\n",
      "Epoch 16/20\n",
      "14/14 [==============================] - 0s 8ms/step - loss: 0.3230 - mean_squared_error: 0.3230 - val_loss: 0.3079 - val_mean_squared_error: 0.3079\n",
      "Epoch 17/20\n",
      "14/14 [==============================] - 0s 10ms/step - loss: 0.3220 - mean_squared_error: 0.3220 - val_loss: 0.3072 - val_mean_squared_error: 0.3072\n",
      "Epoch 18/20\n",
      "14/14 [==============================] - 0s 15ms/step - loss: 0.3220 - mean_squared_error: 0.3220 - val_loss: 0.3109 - val_mean_squared_error: 0.3109\n",
      "Epoch 19/20\n",
      "14/14 [==============================] - 0s 15ms/step - loss: 0.3210 - mean_squared_error: 0.3210 - val_loss: 0.3063 - val_mean_squared_error: 0.3063\n",
      "Epoch 20/20\n",
      "14/14 [==============================] - 0s 9ms/step - loss: 0.3213 - mean_squared_error: 0.3213 - val_loss: 0.3080 - val_mean_squared_error: 0.3080\n"
     ]
    },
    {
     "data": {
      "image/png": "[encoded data removed]",
      "text/plain": [
       "<Figure size 640x480 with 1 Axes>"
      ]
     },
     "metadata": {},
     "output_type": "display_data"
    },
    {
     "name": "stdout",
     "output_type": "stream",
     "text": [
      "\n",
      " Evaluate the new model against the test set:\n",
      "3/3 [==============================] - 0s 7ms/step - loss: 0.3495 - mean_squared_error: 0.3495\n"
     ]
    },
    {
     "data": {
      "text/plain": [
       "{'loss': 0.34954965114593506, 'mean_squared_error': 0.34954965114593506}"
      ]
     },
     "execution_count": 52,
     "metadata": {},
     "output_type": "execute_result"
    }
   ],
   "source": [
    "# Hyperparameters\n",
    "learning_rate = 0.01\n",
    "epochs = 20\n",
    "batch_size = 1000\n",
    "\n",
    "label_name = \"median_house_value\"\n",
    "\n",
    "validation_spit = 0.2\n",
    "\n",
    "dnn_outputs = get_outputs_dnn()\n",
    "\n",
    "# Create the model\n",
    "my_model = create_model(\n",
    "    inputs,\n",
    "    dnn_outputs,\n",
    "    learning_rate)\n",
    "\n",
    "# Train the model\n",
    "epochs, mse, history = train_model(my_model, train_df, epochs, batch_size, label_name, validation_split)\n",
    "plot_the_loss_curve(epochs, mse, history[\"val_mean_squared_error\"])\n",
    "\n",
    "# Test the model\n",
    "test_features = {name:np.array(value) for name, value in test_df.items()}\n",
    "test_label = test_median_house_value_normalized(np.array(test_features.pop(label_name)))\n",
    "\n",
    "print(\"\\n Evaluate the new model against the test set:\")\n",
    "my_model.evaluate(x = test_features, y = test_label, batch_size=batch_size, return_dict=True)"
   ]
  }
 ],
 "metadata": {
  "kernelspec": {
   "display_name": "Python 3 (ipykernel)",
   "language": "python",
   "name": "python3"
  },
  "language_info": {
   "codemirror_mode": {
    "name": "ipython",
    "version": 3
   },
   "file_extension": ".py",
   "mimetype": "text/x-python",
   "name": "python",
   "nbconvert_exporter": "python",
   "pygments_lexer": "ipython3",
   "version": "3.11.3"
  }
 },
 "nbformat": 4,
 "nbformat_minor": 5
}
