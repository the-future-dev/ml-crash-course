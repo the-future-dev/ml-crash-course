{
 "cells": [
  {
   "cell_type": "markdown",
   "id": "86c45b83",
   "metadata": {},
   "source": [
    "# Simple Linear Regression with Synthetic Data\n",
    "\n",
    "First exercise: exploring linear regression with a simple database. \n",
    "\n",
    "  * Tune the following [hyperparameters](https://developers.google.com/machine-learning/glossary/#hyperparameter):\n",
    "    * [learning rate](https://developers.google.com/machine-learning/glossary/#learning_rate)\n",
    "    * number of [epochs](https://developers.google.com/machine-learning/glossary/#epoch)\n",
    "    * [batch size](https://developers.google.com/machine-learning/glossary/#batch_size)\n",
    "  * Interpret different kinds of [loss curves](https://developers.google.com/machine-learning/glossary/#loss_curve).\n"
   ]
  },
  {
   "cell_type": "markdown",
   "id": "64293640",
   "metadata": {},
   "source": [
    "#### Imports"
   ]
  },
  {
   "cell_type": "code",
   "execution_count": 1,
   "id": "dde5d177",
   "metadata": {},
   "outputs": [],
   "source": [
    "import numpy as np\n",
    "import pandas as pd\n",
    "import tensorflow as tf\n",
    "from matplotlib import pyplot as plt"
   ]
  },
  {
   "cell_type": "markdown",
   "id": "acb9dbd3",
   "metadata": {},
   "source": [
    "### Define Model for Linear Regression"
   ]
  },
  {
   "cell_type": "code",
   "execution_count": 1,
   "id": "2822528e",
   "metadata": {},
   "outputs": [
    {
     "name": "stdout",
     "output_type": "stream",
     "text": [
      "Defined build_model and train_model\n"
     ]
    }
   ],
   "source": [
    "from linear_regression import build_model, train_model"
   ]
  },
  {
   "cell_type": "markdown",
   "id": "f182030d",
   "metadata": {},
   "source": [
    "### Define The Plotting Functions"
   ]
  },
  {
   "cell_type": "code",
   "execution_count": 3,
   "id": "27ec2f65",
   "metadata": {},
   "outputs": [
    {
     "name": "stdout",
     "output_type": "stream",
     "text": [
      "Defined the plot_the_model and plot_the_loss_curve functions.\n"
     ]
    }
   ],
   "source": [
    "def plot_the_model(trained_weight, trained_bias, feature, label):\n",
    "    \"\"\"\n",
    "    Plot the training feature and label.\n",
    "    \"\"\"\n",
    "    plt.xlabel(\"feature\")\n",
    "    plt.ylabel(\"label\")\n",
    "    \n",
    "    plt.scatter(feature, label)\n",
    "    \n",
    "    # Creating lines representing the model\n",
    "    x0 = 0\n",
    "    y0 = trained_bias\n",
    "    x1 = feature[-1]\n",
    "    y1 = trained_bias + (trained_weight * x1)\n",
    "    \n",
    "    plt.plot([x0, x1], [y0, y1], c='r')\n",
    "\n",
    "    plt.savefig('./images/model_plot.png')\n",
    "    plt.show()\n",
    "\n",
    "def plot_the_loss_curve(epochs, rmse):\n",
    "    \"\"\"\n",
    "    Plot the loss curve, which shows loss vs. epoch.\n",
    "    \"\"\"\n",
    "    \n",
    "    plt.figure()\n",
    "    plt.xlabel(\"Epoch\")\n",
    "    plt.ylabel(\"Root Mean Squared Error\")\n",
    "    \n",
    "    plt.plot(epochs, rmse, label=\"Loss\")\n",
    "    plt.legend()\n",
    "    plt.ylim([rmse.min()*0.97, rmse.max()])\n",
    "    \n",
    "    plt.savefig('./images/loss_curve.png')\n",
    "    plt.show()\n",
    "\n",
    "print(\"Defined the plot_the_model and plot_the_loss_curve functions.\")"
   ]
  },
  {
   "cell_type": "markdown",
   "id": "192d6854",
   "metadata": {},
   "source": [
    "### Define the dataset"
   ]
  },
  {
   "cell_type": "code",
   "execution_count": 6,
   "id": "df0471bb",
   "metadata": {},
   "outputs": [],
   "source": [
    "my_feature = ([1.0, 2.0,  3.0,  4.0,  5.0,  6.0,  7.0,  8.0,  9.0, 10.0, 11.0, 12.0])\n",
    "my_label   = ([5.0, 8.8,  9.6, 14.2, 18.8, 19.5, 21.4, 26.8, 28.9, 32.0, 33.8, 38.2])"
   ]
  },
  {
   "cell_type": "markdown",
   "id": "16612954",
   "metadata": {},
   "source": [
    "### Specify The Hyperparameters:\n",
    "  * [learning rate](https://developers.google.com/machine-learning/glossary/#learning_rate)\n",
    "  * [epochs](https://developers.google.com/machine-learning/glossary/#epoch)\n",
    "  * [batch_size](https://developers.google.com/machine-learning/glossary/#batch_size)\n",
    "\n",
    "The following code cell initializes these hyperparameters and then invokes the functions that build and train the model."
   ]
  },
  {
   "cell_type": "code",
   "execution_count": null,
   "id": "38fa3ba7",
   "metadata": {},
   "outputs": [
    {
     "name": "stdout",
     "output_type": "stream",
     "text": [
      "Epoch 1/70\n",
      "1/1 [==============================] - 1s 771ms/step - loss: 898.3604 - root_mean_squared_error: 29.9727\n",
      "Epoch 2/70\n",
      "1/1 [==============================] - 0s 20ms/step - loss: 692.7707 - root_mean_squared_error: 26.3205\n",
      "Epoch 3/70\n",
      "1/1 [==============================] - 0s 19ms/step - loss: 568.3687 - root_mean_squared_error: 23.8405\n",
      "Epoch 4/70\n",
      "1/1 [==============================] - 0s 23ms/step - loss: 477.6198 - root_mean_squared_error: 21.8545\n",
      "Epoch 5/70\n",
      "1/1 [==============================] - 0s 19ms/step - loss: 406.2885 - root_mean_squared_error: 20.1566\n",
      "Epoch 6/70\n",
      "1/1 [==============================] - 0s 24ms/step - loss: 347.9446 - root_mean_squared_error: 18.6533\n",
      "Epoch 7/70\n",
      "1/1 [==============================] - 0s 24ms/step - loss: 299.0590 - root_mean_squared_error: 17.2933\n",
      "Epoch 8/70\n",
      "1/1 [==============================] - 0s 16ms/step - loss: 257.4544 - root_mean_squared_error: 16.0454\n",
      "Epoch 9/70\n",
      "1/1 [==============================] - 0s 24ms/step - loss: 221.6767 - root_mean_squared_error: 14.8888\n",
      "Epoch 10/70\n",
      "1/1 [==============================] - 0s 21ms/step - loss: 190.6966 - root_mean_squared_error: 13.8093\n",
      "Epoch 11/70\n",
      "1/1 [==============================] - 0s 22ms/step - loss: 163.7520 - root_mean_squared_error: 12.7966\n",
      "Epoch 12/70\n",
      "1/1 [==============================] - 0s 19ms/step - loss: 140.2578 - root_mean_squared_error: 11.8430\n",
      "Epoch 13/70\n",
      "1/1 [==============================] - 0s 24ms/step - loss: 119.7509 - root_mean_squared_error: 10.9431\n",
      "Epoch 14/70\n",
      "1/1 [==============================] - 0s 21ms/step - loss: 101.8554 - root_mean_squared_error: 10.0923\n",
      "Epoch 15/70\n",
      "1/1 [==============================] - 0s 18ms/step - loss: 86.2588 - root_mean_squared_error: 9.2876\n",
      "Epoch 16/70\n",
      "1/1 [==============================] - 0s 25ms/step - loss: 72.6964 - root_mean_squared_error: 8.5262\n",
      "Epoch 17/70\n",
      "1/1 [==============================] - 0s 18ms/step - loss: 60.9401 - root_mean_squared_error: 7.8064\n",
      "Epoch 18/70\n",
      "1/1 [==============================] - 0s 18ms/step - loss: 50.7901 - root_mean_squared_error: 7.1267\n",
      "Epoch 19/70\n",
      "1/1 [==============================] - 0s 17ms/step - loss: 42.0691 - root_mean_squared_error: 6.4861\n",
      "Epoch 20/70\n",
      "1/1 [==============================] - 0s 16ms/step - loss: 34.6182 - root_mean_squared_error: 5.8837\n",
      "Epoch 21/70\n",
      "1/1 [==============================] - 0s 13ms/step - loss: 28.2937 - root_mean_squared_error: 5.3192\n",
      "Epoch 22/70\n",
      "1/1 [==============================] - 0s 14ms/step - loss: 22.9644 - root_mean_squared_error: 4.7921\n",
      "Epoch 23/70\n",
      "1/1 [==============================] - 0s 20ms/step - loss: 18.5105 - root_mean_squared_error: 4.3024\n",
      "Epoch 24/70\n",
      "1/1 [==============================] - 0s 24ms/step - loss: 14.8220 - root_mean_squared_error: 3.8499\n",
      "Epoch 25/70\n",
      "1/1 [==============================] - 0s 24ms/step - loss: 11.7980 - root_mean_squared_error: 3.4348\n",
      "Epoch 26/70\n",
      "1/1 [==============================] - 0s 14ms/step - loss: 9.3459 - root_mean_squared_error: 3.0571\n",
      "Epoch 27/70\n",
      "1/1 [==============================] - 0s 16ms/step - loss: 7.3815 - root_mean_squared_error: 2.7169\n",
      "Epoch 28/70\n",
      "1/1 [==============================] - 0s 15ms/step - loss: 5.8283 - root_mean_squared_error: 2.4142\n",
      "Epoch 29/70\n",
      "1/1 [==============================] - 0s 14ms/step - loss: 4.6176 - root_mean_squared_error: 2.1489\n",
      "Epoch 30/70\n",
      "1/1 [==============================] - 0s 16ms/step - loss: 3.6883 - root_mean_squared_error: 1.9205\n",
      "Epoch 31/70\n",
      "1/1 [==============================] - 0s 13ms/step - loss: 2.9866 - root_mean_squared_error: 1.7282\n",
      "Epoch 32/70\n",
      "1/1 [==============================] - 0s 24ms/step - loss: 2.4661 - root_mean_squared_error: 1.5704\n",
      "Epoch 33/70\n",
      "1/1 [==============================] - 0s 14ms/step - loss: 2.0872 - root_mean_squared_error: 1.4447\n",
      "Epoch 34/70\n",
      "1/1 [==============================] - 0s 18ms/step - loss: 1.8167 - root_mean_squared_error: 1.3478\n",
      "Epoch 35/70\n",
      "1/1 [==============================] - 0s 17ms/step - loss: 1.6274 - root_mean_squared_error: 1.2757\n",
      "Epoch 36/70\n",
      "1/1 [==============================] - 0s 16ms/step - loss: 1.4975 - root_mean_squared_error: 1.2237\n",
      "Epoch 37/70\n",
      "1/1 [==============================] - 0s 19ms/step - loss: 1.4101 - root_mean_squared_error: 1.1875\n",
      "Epoch 38/70\n",
      "1/1 [==============================] - 0s 15ms/step - loss: 1.3521 - root_mean_squared_error: 1.1628\n",
      "Epoch 39/70\n",
      "1/1 [==============================] - 0s 20ms/step - loss: 1.3140 - root_mean_squared_error: 1.1463\n",
      "Epoch 40/70\n",
      "1/1 [==============================] - 0s 24ms/step - loss: 1.2887 - root_mean_squared_error: 1.1352\n",
      "Epoch 41/70\n",
      "1/1 [==============================] - 0s 11ms/step - loss: 1.2716 - root_mean_squared_error: 1.1276\n",
      "Epoch 42/70\n",
      "1/1 [==============================] - 0s 16ms/step - loss: 1.2593 - root_mean_squared_error: 1.1222\n",
      "Epoch 43/70\n",
      "1/1 [==============================] - 0s 16ms/step - loss: 1.2498 - root_mean_squared_error: 1.1179\n",
      "Epoch 44/70\n",
      "1/1 [==============================] - 0s 17ms/step - loss: 1.2417 - root_mean_squared_error: 1.1143\n",
      "Epoch 45/70\n",
      "1/1 [==============================] - 0s 16ms/step - loss: 1.2344 - root_mean_squared_error: 1.1110\n",
      "Epoch 46/70\n",
      "1/1 [==============================] - 0s 16ms/step - loss: 1.2272 - root_mean_squared_error: 1.1078\n",
      "Epoch 47/70\n",
      "1/1 [==============================] - 0s 16ms/step - loss: 1.2201 - root_mean_squared_error: 1.1046\n",
      "Epoch 48/70\n",
      "1/1 [==============================] - 0s 23ms/step - loss: 1.2129 - root_mean_squared_error: 1.1013\n",
      "Epoch 49/70\n",
      "1/1 [==============================] - 0s 25ms/step - loss: 1.2054 - root_mean_squared_error: 1.0979\n",
      "Epoch 50/70\n",
      "1/1 [==============================] - 0s 22ms/step - loss: 1.1978 - root_mean_squared_error: 1.0944\n",
      "Epoch 51/70\n",
      "1/1 [==============================] - 0s 17ms/step - loss: 1.1900 - root_mean_squared_error: 1.0909\n",
      "Epoch 52/70\n",
      "1/1 [==============================] - 0s 10ms/step - loss: 1.1819 - root_mean_squared_error: 1.0872\n",
      "Epoch 53/70\n",
      "1/1 [==============================] - 0s 16ms/step - loss: 1.1737 - root_mean_squared_error: 1.0834\n",
      "Epoch 54/70\n",
      "1/1 [==============================] - 0s 19ms/step - loss: 1.1652 - root_mean_squared_error: 1.0794\n",
      "Epoch 55/70\n",
      "1/1 [==============================] - 0s 29ms/step - loss: 1.1565 - root_mean_squared_error: 1.0754\n",
      "Epoch 56/70\n",
      "1/1 [==============================] - 0s 14ms/step - loss: 1.1477 - root_mean_squared_error: 1.0713\n"
     ]
    }
   ],
   "source": [
    "learning_rate=0.14\n",
    "epochs=70\n",
    "my_batch_size=12\n",
    "\n",
    "my_model = build_model(learning_rate)\n",
    "trained_weight, trained_bias, epochs, rmse = train_model(my_model, my_feature, \n",
    "                                                         my_label, epochs,\n",
    "                                                         my_batch_size)"
   ]
  },
  {
   "cell_type": "code",
   "execution_count": 15,
   "id": "f4bcca32-0577-44f8-b07c-3d7aed196ef4",
   "metadata": {},
   "outputs": [
    {
     "data": {
      "image/png": "[encoded data removed]",
      "text/plain": [
       "<Figure size 640x480 with 1 Axes>"
      ]
     },
     "metadata": {},
     "output_type": "display_data"
    },
    {
     "data": {
      "image/png": "[encoded data removed]",
      "text/plain": [
       "<Figure size 640x480 with 1 Axes>"
      ]
     },
     "metadata": {},
     "output_type": "display_data"
    }
   ],
   "source": [
    "plot_the_model(trained_weight[0], trained_bias, my_feature, my_label)\n",
    "plot_the_loss_curve(epochs, rmse)"
   ]
  }
 ],
 "metadata": {
  "kernelspec": {
   "display_name": "Artificial Intelligence",
   "language": "python",
   "name": "ai"
  },
  "language_info": {
   "codemirror_mode": {
    "name": "ipython",
    "version": 3
   },
   "file_extension": ".py",
   "mimetype": "text/x-python",
   "name": "python",
   "nbconvert_exporter": "python",
   "pygments_lexer": "ipython3",
   "version": "3.11.3"
  }
 },
 "nbformat": 4,
 "nbformat_minor": 5
}
