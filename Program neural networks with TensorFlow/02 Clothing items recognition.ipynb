{
 "cells": [
  {
   "cell_type": "markdown",
   "id": "d6ee71dc",
   "metadata": {},
   "source": [
    "# Build a computer vision model with tensorflow.\n",
    "* Train a neural network to recognize articles of clothing\n",
    "* Complete a series of exercises to guide me through experimenting iwth the different layers of the network"
   ]
  },
  {
   "cell_type": "code",
   "execution_count": 1,
   "id": "43c063ce",
   "metadata": {},
   "outputs": [],
   "source": [
    "import tensorflow as tf\n",
    "import matplotlib.pyplot as plt"
   ]
  },
  {
   "cell_type": "markdown",
   "id": "5ad8944a",
   "metadata": {},
   "source": [
    "I will train a neural network to recognize items of clothing from a common dataset called [Fashion MNIST](https://github.com/zalandoresearch/fashion-mnist). It containst 70'000 items of clothing in 10 different categories. Each item of clothing is in a 28x28 grayscale image.\n",
    "\n",
    "The labels associated with the dataset are:\n",
    "<table>\n",
    "    <tr>\n",
    "        <th>Label</th>\n",
    "        <th>Description</th>\n",
    "    </tr>\n",
    "    <tr>\n",
    "      <td>0</td>\n",
    "      <td>T-shirt / top</td>\n",
    "    </tr>\n",
    "    <tr>\n",
    "      <td>1</td>\n",
    "      <td>Trouser</td>\n",
    "    </tr>\n",
    "    <tr>\n",
    "      <td>2</td>\n",
    "      <td>Pullover</td>\n",
    "    </tr>\n",
    "    <tr>\n",
    "      <td>3</td>\n",
    "      <td>Dress</td>\n",
    "    </tr>\n",
    "    <tr>\n",
    "      <td>4</td>\n",
    "      <td>Coat</td>\n",
    "    </tr>\n",
    "    <tr>\n",
    "      <td>5</td>\n",
    "      <td>Sandal</td>\n",
    "    </tr>\n",
    "    <tr>\n",
    "      <td>6</td>\n",
    "      <td>Shirt</td>\n",
    "    </tr>\n",
    "    <tr>\n",
    "      <td>7</td>\n",
    "      <td>Sneaker</td>\n",
    "    </tr>\n",
    "    <tr>\n",
    "      <td>8</td>\n",
    "      <td>Bag</td>\n",
    "    </tr>\n",
    "    <tr>\n",
    "      <td>9</td>\n",
    "      <td>Ankle boot</td>\n",
    "    </tr>\n",
    "    \n",
    "</table>"
   ]
  },
  {
   "cell_type": "code",
   "execution_count": 2,
   "id": "eb98675f",
   "metadata": {},
   "outputs": [],
   "source": [
    "# The Fashion MNIST data is available in the `tf.keras.datasets` API\n",
    "mnist = tf.keras.datasets.fashion_mnist\n",
    "\n",
    "# Calling load_data on the object gives me two sets of two lists:\n",
    "# training values and testing values, which represent graphics that show clothing intems and their labels\n",
    "(training_images, training_labels), (test_images, test_labels) = mnist.load_data()"
   ]
  },
  {
   "cell_type": "code",
   "execution_count": 3,
   "id": "1b2194be",
   "metadata": {},
   "outputs": [
    {
     "data": {
      "text/plain": [
       "<matplotlib.image.AxesImage at 0x24328a48ad0>"
      ]
     },
     "execution_count": 3,
     "metadata": {},
     "output_type": "execute_result"
    },
    {
     "data": {
      "image/png": "[encoded data removed]",
      "text/plain": [
       "<Figure size 640x480 with 1 Axes>"
      ]
     },
     "metadata": {},
     "output_type": "display_data"
    }
   ],
   "source": [
    "plt.imshow(training_images[100])"
   ]
  },
  {
   "cell_type": "markdown",
   "id": "63957527",
   "metadata": {},
   "source": [
    "### Values are images from 0 to 255. And I want to normalize it.\n",
    "the google course i'm following suggests to divide by 255.0 but I will normalize it through the standard deviation and the mean"
   ]
  },
  {
   "cell_type": "code",
   "execution_count": 16,
   "id": "5a531cd0",
   "metadata": {},
   "outputs": [],
   "source": [
    "# Code provided:\n",
    "# training_images = training_images / 255.0\n",
    "# test_images = test_images / 255.0\n",
    "\n",
    "training_std = training_images.std()\n",
    "training_mean = training_images.mean()\n",
    "\n",
    "training_images = (training_images) / training_std\n",
    "test_images = (test_images) / training_std"
   ]
  },
  {
   "cell_type": "code",
   "execution_count": 6,
   "id": "4f7263a0",
   "metadata": {},
   "outputs": [
    {
     "data": {
      "text/plain": [
       "<matplotlib.image.AxesImage at 0x2432ba60110>"
      ]
     },
     "execution_count": 6,
     "metadata": {},
     "output_type": "execute_result"
    },
    {
     "data": {
      "image/png": "[encoded data removed]",
      "text/plain": [
       "<Figure size 640x480 with 1 Axes>"
      ]
     },
     "metadata": {},
     "output_type": "display_data"
    }
   ],
   "source": [
    "plt.imshow(training_images[100])"
   ]
  },
  {
   "cell_type": "markdown",
   "id": "13e4cfb1",
   "metadata": {},
   "source": [
    "## Design the model\n",
    "* `Sequential` defines a sequence of layers in the neural network.\n",
    "* `Flatten` takes a square and turns it into a one-dimensional vector.\n",
    "* `Dense` adds a layer of neurons.\n",
    "* `Activation` functions tell each layer of neurons what to do. There are lots of options, but use these for now:\n",
    "* `Relu` effectively means that if X is greater than 0 return X, else return 0. It only passes values of 0 or greater to the next layer in the network.\n",
    "* `Softmax` takes a set of values, and effectively picks the biggest one. For example, if the output of the last layer looks like [0.1, 0.1, 0.05, 0.1, 9.5, 0.1, 0.05, 0.05, 0.05], then it saves you from having to sort for the largest value—it returns [0,0,0,0,1,0,0,0,0]."
   ]
  },
  {
   "cell_type": "code",
   "execution_count": 33,
   "id": "7cb14729",
   "metadata": {},
   "outputs": [],
   "source": [
    "model = tf.keras.models.Sequential([\n",
    "    tf.keras.layers.Flatten(), # As the data is a 28 x 28 array this layer makes it inot a 784 array\n",
    "    tf.keras.layers.Dense(128, activation=tf.nn.relu), \n",
    "    tf.keras.layers.Dense(10, activation=tf.nn.softmax)\n",
    "])"
   ]
  },
  {
   "cell_type": "code",
   "execution_count": 34,
   "id": "a62dd162",
   "metadata": {},
   "outputs": [],
   "source": [
    "model.compile(optimizer = tf.keras.optimizers.Adam(),\n",
    "              loss = 'sparse_categorical_crossentropy',\n",
    "              metrics=['accuracy'])"
   ]
  },
  {
   "cell_type": "code",
   "execution_count": 35,
   "id": "336a202c",
   "metadata": {},
   "outputs": [
    {
     "name": "stdout",
     "output_type": "stream",
     "text": [
      "Epoch 1/5\n",
      "1875/1875 [==============================] - 4s 2ms/step - loss: 0.4625 - accuracy: 0.8322\n",
      "Epoch 2/5\n",
      "1875/1875 [==============================] - 6s 3ms/step - loss: 0.3535 - accuracy: 0.8705\n",
      "Epoch 3/5\n",
      "1875/1875 [==============================] - 6s 3ms/step - loss: 0.3178 - accuracy: 0.8812\n",
      "Epoch 4/5\n",
      "1875/1875 [==============================] - 6s 3ms/step - loss: 0.2968 - accuracy: 0.8891\n",
      "Epoch 5/5\n",
      "1875/1875 [==============================] - 6s 3ms/step - loss: 0.2789 - accuracy: 0.8957\n"
     ]
    },
    {
     "data": {
      "text/plain": [
       "<keras.src.callbacks.History at 0x2432c1e6f90>"
      ]
     },
     "execution_count": 35,
     "metadata": {},
     "output_type": "execute_result"
    }
   ],
   "source": [
    "model.fit(training_images, training_labels, epochs=5)"
   ]
  },
  {
   "cell_type": "code",
   "execution_count": 36,
   "id": "00d7ba01",
   "metadata": {},
   "outputs": [
    {
     "name": "stdout",
     "output_type": "stream",
     "text": [
      "313/313 [==============================] - 1s 1ms/step - loss: 0.3728 - accuracy: 0.8685\n"
     ]
    },
    {
     "data": {
      "text/plain": [
       "[0.372791588306427, 0.8684999942779541]"
      ]
     },
     "execution_count": 36,
     "metadata": {},
     "output_type": "execute_result"
    }
   ],
   "source": [
    "model.evaluate(test_images, test_labels)"
   ]
  },
  {
   "cell_type": "markdown",
   "id": "b647ba24",
   "metadata": {},
   "source": [
    "## Observation\n",
    "* We have 10 possible outcomes so the prediction is an array of ten probabilities that corresponds to the ten possible classifications\n",
    "* Because of `Softmax` the sum of predictions is `1`.\n",
    "* They are low probabilities except one."
   ]
  },
  {
   "cell_type": "code",
   "execution_count": 21,
   "id": "3f8ac976",
   "metadata": {},
   "outputs": [
    {
     "name": "stdout",
     "output_type": "stream",
     "text": [
      "313/313 [==============================] - 0s 1ms/step\n"
     ]
    },
    {
     "data": {
      "text/plain": [
       "array([1.6142518e-07, 2.1990201e-07, 2.0835694e-07, 1.1600514e-09,\n",
       "       2.0480374e-07, 1.9409969e-01, 1.1253834e-06, 2.3102682e-02,\n",
       "       1.1453443e-07, 7.8279567e-01], dtype=float32)"
      ]
     },
     "execution_count": 21,
     "metadata": {},
     "output_type": "execute_result"
    }
   ],
   "source": [
    "classifications = model.predict(test_images)\n",
    "classifications[0]"
   ]
  },
  {
   "cell_type": "code",
   "execution_count": 28,
   "id": "b87693dc",
   "metadata": {},
   "outputs": [
    {
     "name": "stdout",
     "output_type": "stream",
     "text": [
      "1.6142518e-07   0\n",
      "2.19902e-07   1\n",
      "2.0835694e-07   2\n",
      "1.1600514e-09   3\n",
      "2.0480374e-07   4\n",
      "0.1940997   5\n",
      "1.1253834e-06   6\n",
      "0.023102682   7\n",
      "1.1453443e-07   8\n",
      "0.78279567   9\n",
      "1.0000000797883268\n"
     ]
    }
   ],
   "source": [
    "tot_prob = 0\n",
    "for i in range(0, 10):\n",
    "    w = classifications[0][i]\n",
    "    print(w, \" \", i)\n",
    "    tot_prob += w\n",
    "\n",
    "print(tot_prob)"
   ]
  },
  {
   "cell_type": "code",
   "execution_count": 39,
   "id": "ba1b1e3a",
   "metadata": {},
   "outputs": [
    {
     "name": "stdout",
     "output_type": "stream",
     "text": [
      "Epoch 1/5\n",
      "1867/1875 [============================>.] - ETA: 0s - loss: 0.2045 - accuracy: 0.9232\n",
      " Reached 91% accuracy so cancelling training!\n",
      "1875/1875 [==============================] - 6s 3ms/step - loss: 0.2046 - accuracy: 0.9231\n"
     ]
    },
    {
     "data": {
      "text/plain": [
       "<keras.src.callbacks.History at 0x24332312810>"
      ]
     },
     "execution_count": 39,
     "metadata": {},
     "output_type": "execute_result"
    }
   ],
   "source": [
    "# Callback example:\n",
    "# loss might change so it seems interesting to stop training if certain conditions are respected: ex 95% accuracy\n",
    "\n",
    "class myCallBack(tf.keras.callbacks.Callback):\n",
    "    def on_epoch_end(self, epoch, logs={}):\n",
    "        if(logs.get('accuracy')>0.91):\n",
    "            print(\"\\n Reached 91% accuracy so cancelling training!\")\n",
    "            self.model.stop_training = True\n",
    "\n",
    "callbacks = myCallBack()\n",
    "\n",
    "model.fit(training_images, training_labels, epochs=5, callbacks=[callbacks])"
   ]
  }
 ],
 "metadata": {
  "kernelspec": {
   "display_name": "Artificial Intelligence",
   "language": "python",
   "name": "ai"
  },
  "language_info": {
   "codemirror_mode": {
    "name": "ipython",
    "version": 3
   },
   "file_extension": ".py",
   "mimetype": "text/x-python",
   "name": "python",
   "nbconvert_exporter": "python",
   "pygments_lexer": "ipython3",
   "version": "3.11.3"
  }
 },
 "nbformat": 4,
 "nbformat_minor": 5
}
