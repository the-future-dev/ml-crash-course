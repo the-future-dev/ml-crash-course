{
 "cells": [
  {
   "cell_type": "markdown",
   "id": "3b167cf5",
   "metadata": {},
   "source": [
    "## What are convolutions?\n",
    "A convolution is a filter that passes over an image, processes it, and extracts the important features.\n",
    "\n",
    "> Ex.\n",
    "> Image of a person waring a sneaker. How would you detect that a sneacker is present in the image.\n",
    "> I have to extract the important features, and blur the inessential feautres.\n",
    "> This process is called features mapping.\n",
    "\n",
    "Thre feature mapping process is theoretically simple. I'll scan every pixel in the image and then look at its neighboring pixels. And multiplying the values of those pixels by the equivalent weights in a filter."
   ]
  },
  {
   "cell_type": "code",
   "execution_count": 1,
   "id": "e997ea9d",
   "metadata": {},
   "outputs": [
    {
     "ename": "ModuleNotFoundError",
     "evalue": "No module named 'cv2'",
     "output_type": "error",
     "traceback": [
      "\u001b[1;31m---------------------------------------------------------------------------\u001b[0m",
      "\u001b[1;31mModuleNotFoundError\u001b[0m                       Traceback (most recent call last)",
      "Cell \u001b[1;32mIn[1], line 1\u001b[0m\n\u001b[1;32m----> 1\u001b[0m \u001b[38;5;28;01mimport\u001b[39;00m \u001b[38;5;21;01mcv2\u001b[39;00m\n\u001b[0;32m      2\u001b[0m \u001b[38;5;28;01mimport\u001b[39;00m \u001b[38;5;21;01mnumpy\u001b[39;00m \u001b[38;5;28;01mas\u001b[39;00m \u001b[38;5;21;01mnp\u001b[39;00m\n\u001b[0;32m      3\u001b[0m \u001b[38;5;28;01mfrom\u001b[39;00m \u001b[38;5;21;01mscipy\u001b[39;00m \u001b[38;5;28;01mimport\u001b[39;00m misc\n",
      "\u001b[1;31mModuleNotFoundError\u001b[0m: No module named 'cv2'"
     ]
    }
   ],
   "source": [
    "import cv2\n",
    "import numpy as np\n",
    "from scipy import misc\n",
    "\n",
    "i = misc.ascent()"
   ]
  },
  {
   "cell_type": "code",
   "execution_count": 3,
   "id": "8365ce15",
   "metadata": {},
   "outputs": [
    {
     "name": "stdout",
     "output_type": "stream",
     "text": [
      "Requirement already satisfied: opencv-python in c:\\users\\andre\\anaconda3\\envs\\ai\\lib\\site-packages (4.8.0.76)\n",
      "Requirement already satisfied: numpy>=1.21.2 in c:\\users\\andre\\anaconda3\\envs\\ai\\lib\\site-packages (from opencv-python) (1.25.2)\n"
     ]
    },
    {
     "ename": "ModuleNotFoundError",
     "evalue": "No module named 'cv2'",
     "output_type": "error",
     "traceback": [
      "\u001b[1;31m---------------------------------------------------------------------------\u001b[0m",
      "\u001b[1;31mModuleNotFoundError\u001b[0m                       Traceback (most recent call last)",
      "Cell \u001b[1;32mIn[3], line 2\u001b[0m\n\u001b[0;32m      1\u001b[0m get_ipython()\u001b[38;5;241m.\u001b[39msystem(\u001b[38;5;124m'\u001b[39m\u001b[38;5;124mC:\u001b[39m\u001b[38;5;130;01m\\\\\u001b[39;00m\u001b[38;5;124mUsers\u001b[39m\u001b[38;5;130;01m\\\\\u001b[39;00m\u001b[38;5;124mandre\u001b[39m\u001b[38;5;130;01m\\\\\u001b[39;00m\u001b[38;5;124manaconda3\u001b[39m\u001b[38;5;130;01m\\\\\u001b[39;00m\u001b[38;5;124menvs\u001b[39m\u001b[38;5;130;01m\\\\\u001b[39;00m\u001b[38;5;124mai\u001b[39m\u001b[38;5;130;01m\\\\\u001b[39;00m\u001b[38;5;124mScripts\u001b[39m\u001b[38;5;130;01m\\\\\u001b[39;00m\u001b[38;5;124mpip.exe install opencv-python\u001b[39m\u001b[38;5;124m'\u001b[39m)\n\u001b[1;32m----> 2\u001b[0m \u001b[38;5;28;01mimport\u001b[39;00m \u001b[38;5;21;01mcv2\u001b[39;00m\n",
      "\u001b[1;31mModuleNotFoundError\u001b[0m: No module named 'cv2'"
     ]
    }
   ],
   "source": [
    "!C:\\Users\\andre\\anaconda3\\envs\\ai\\Scripts\\pip.exe install opencv-python\n",
    "import cv2"
   ]
  }
 ],
 "metadata": {
  "kernelspec": {
   "display_name": "Artificial Intelligence",
   "language": "python",
   "name": "ai"
  },
  "language_info": {
   "codemirror_mode": {
    "name": "ipython",
    "version": 3
   },
   "file_extension": ".py",
   "mimetype": "text/x-python",
   "name": "python",
   "nbconvert_exporter": "python",
   "pygments_lexer": "ipython3",
   "version": "3.11.3"
  }
 },
 "nbformat": 4,
 "nbformat_minor": 5
}
